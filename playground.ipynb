{
 "cells": [
  {
   "cell_type": "code",
   "execution_count": 1,
   "id": "6d07f6f4",
   "metadata": {},
   "outputs": [],
   "source": [
    "import numpy as np\n",
    "from numpy.lib.stride_tricks import sliding_window_view\n",
    "import matplotlib.pyplot as plt\n",
    "from scipy.optimize import minimize"
   ]
  },
  {
   "cell_type": "code",
   "execution_count": 45,
   "id": "858cb894",
   "metadata": {},
   "outputs": [
    {
     "data": {
      "image/png": "[encoded data removed]",
      "text/plain": [
       "<Figure size 1152x360 with 2 Axes>"
      ]
     },
     "metadata": {
      "needs_background": "light"
     },
     "output_type": "display_data"
    }
   ],
   "source": [
    "np.array([x for x in range(10)]).shape\n",
    "np.array([1,2,3]).dtype\n",
    "np.array([[1,2,3]], dtype=[('a', np.int64), ('b', np.int64), ('c', np.int64)]).dtype.names\n",
    "np.arange(0, 10, 1).T\n",
    "len(np.ones(3).flatten())\n",
    "np.linspace(0, 1, 10).astype(np.float32).round(2)\n",
    "np.array([1,2,3,4,5,6]).reshape((-1, 3))\n",
    "\n",
    "np.sort([1,5,4,3,2])\n",
    "np.argmax([1,2,3,4,3,2])\n",
    "np.bincount([1,1,2,2,2])\n",
    "np.array(np.unique(np.array([1,2,3,1]), return_counts=True)).T\n",
    "np.sign([1,-1,-3,-1, 0])\n",
    "np.where(np.array([1,2,3]) >= 2, 1, 0)\n",
    "\n",
    "np.concatenate([[1,2,3],[4,5,6]])\n",
    "np.stack([[1,2,3],[4,5,6]], axis=0)\n",
    "np.atleast_2d([1])\n",
    "\n",
    "np.random.random([2, 3])\n",
    "np.random.randint(0, 2, (2, 3))\n",
    "np.random.choice([1,2,3])\n",
    "np.random.shuffle([1,2,3])\n",
    "np.random.standard_normal(10)\n",
    "np.random.binomial(100, 0.5, 10)\n",
    "\n",
    "np.allclose([1,2],[1,2])\n",
    "np.linalg.matrix_rank([[0, 1], [1, 0]])\n",
    "np.linalg.lstsq([[0.5, 0], [0, 1]], [2, 3], rcond=-1)[0]\n",
    "np.linalg.solve([[0.5, 0], [0, 1]], [2, 3])\n",
    "r = np.polyfit([0,1,2], [1, 2, 3], deg=1, full=True) # potentially useful for clusters\n",
    "np.polyval(r[0], [1])\n",
    "minimize(lambda x: x[0], np.ones(1), bounds=[(0, None)], constraints=[{'type': 'eq', 'fun': lambda x: x - 2}])\n",
    "\n",
    "np.dot([1,2,3], [4,5,6])\n",
    "np.var(np.array([1,2,3]))\n",
    "np.std(np.array([1,2,3]))\n",
    "np.cov([1,2,3], aweights=[1,2,3], ddof=0)\n",
    "np.corrcoef([1,2,3,4],[1,2,1,2])\n",
    "np.mean(sliding_window_view(np.array([1,2,3,4,5]), 3), axis=0)\n",
    "np.diff(np.array([1,2,3]), n = 1)\n",
    "np.roll(np.array([1,2,3]),-1)[:-1]\n",
    "np.sum(np.array([1,2,3]))\n",
    "np.cumsum(np.array([1,2,3]))\n",
    "np.median(np.array([1,2,3]))\n",
    "np.max([1,2,3])\n",
    "np.min([1,2,3])\n",
    "np.sqrt([1,2,3])\n",
    "np.log([1,2,3])\n",
    "np.exp([1,2,3])\n",
    "\n",
    "fig, ax = plt.subplots(2, 1, figsize=(16, 5), gridspec_kw={'height_ratios': [2, 1]}, sharex=True)\n",
    "ax[0].set_ylabel('some numbers')\n",
    "ax[0].plot([1,2,3,4], '--', lw=0.5, label='sample data', color='#ff00ff')\n",
    "ax[0].fill_between([0, 1, 2, 3], [0, 0, 0, 0], [1, 2, 3, 4], color='green', alpha=0.125)\n",
    "ax[0].vlines([0, 1, 2, 3], 0, 7, colors=['#dddddd'])\n",
    "ax[0].legend()\n",
    "ax[1].plot([4,5,6,7], '^', ms=11)\n",
    "plt.xticks(rotation=90)\n",
    "plt.show()"
   ]
  },
  {
   "cell_type": "code",
   "execution_count": 49,
   "id": "babec433",
   "metadata": {},
   "outputs": [
    {
     "data": {
      "text/plain": [
       "array([1, 1])"
      ]
     },
     "execution_count": 49,
     "metadata": {},
     "output_type": "execute_result"
    }
   ],
   "source": [
    "np.diff(np.array([1,2,3]), n = 1)"
   ]
  },
  {
   "cell_type": "code",
   "execution_count": null,
   "id": "0641ff5e",
   "metadata": {},
   "outputs": [],
   "source": []
  }
 ],
 "metadata": {
  "kernelspec": {
   "display_name": "Python 3",
   "language": "python",
   "name": "python3"
  },
  "language_info": {
   "codemirror_mode": {
    "name": "ipython",
    "version": 3
   },
   "file_extension": ".py",
   "mimetype": "text/x-python",
   "name": "python",
   "nbconvert_exporter": "python",
   "pygments_lexer": "ipython3",
   "version": "3.8.10"
  }
 },
 "nbformat": 4,
 "nbformat_minor": 5
}
