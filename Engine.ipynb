{
 "cells": [
  {
   "cell_type": "code",
   "execution_count": 1,
   "metadata": {
    "collapsed": true,
    "deletable": true,
    "editable": true
   },
   "outputs": [],
   "source": [
    "from pyspark.sql import SparkSession\n",
    "from pyspark.sql.functions import col, udf\n",
    "from pyspark.ml.recommendation import ALS\n",
    "from pyspark.ml.feature import BucketedRandomProjectionLSH\n",
    "from pyspark.ml.linalg import Vectors, VectorUDT\n",
    "from pyspark.sql import Row\n",
    "\n",
    "spark = SparkSession.builder.appName(\"Engine\").master(\"local[*]\").getOrCreate()"
   ]
  },
  {
   "cell_type": "code",
   "execution_count": 2,
   "metadata": {
    "collapsed": true,
    "deletable": true,
    "editable": true
   },
   "outputs": [],
   "source": [
    "class Contents():\n",
    "    def load(self):\n",
    "        self.contents = spark.read.csv(path=\"./csv/video.contents.csv\", header=True, comment=\"-\", inferSchema=True)\\\n",
    "            .select(\"ContentId\", \"Codename\").cache()\n",
    "        self.categories = spark.read.csv(path=\"./csv/video.categories.csv\", header=True, comment=\"-\", inferSchema=True)\\\n",
    "            .select(\"CategoryId\", col(\"Codename\").alias(\"CategoryCodename\"), \"CategoryTypeId\").cache()\n",
    "        self.contentCategories = spark.read.csv(path=\"./csv/video.contentcategories.csv\", header=True, comment=\"-\", inferSchema=True)\\\n",
    "            .select(\"ContentId\", \"CategoryId\").cache()\n",
    "        self.categoryTypes = spark.read.csv(path=\"./csv/video.categorytypes.csv\", header=True, comment=\"-\", inferSchema=True)\\\n",
    "            .select(\"CategoryTypeId\", col(\"Codename\").alias(\"CategoryTypeCodename\")).cache()\n",
    "        self.usercontent = spark.read.csv(path=\"./csv/video.usercontent.csv\", header=True, comment=\"-\", inferSchema=True)\\\n",
    "            .select(\"UserId\", \"ContentId\").cache()\n",
    "        return self\n",
    "    \n",
    "    def transform(self):\n",
    "        #self.filterUserLowerBound()\n",
    "        self.filterContentLowerBound()\n",
    "        self.filterCategoryTypes(4)\n",
    "        self.usercontent.cache()\n",
    "        return self\n",
    "    \n",
    "    def cache(self):\n",
    "        self.contents.count()\n",
    "        self.categories.count()\n",
    "        self.contentCategories.count()\n",
    "        self.categoryTypes.count()\n",
    "        self.usercontent.count()\n",
    "        return self\n",
    "    \n",
    "    def getUsersWithContent(self, contentName):\n",
    "        return self.usercontent\\\n",
    "            .join(self.contents, \"ContentId\")\\\n",
    "            .filter(\"Codename like '%{0}%'\".format(contentName))\\\n",
    "            .select(\"UserId\", \"ContentId\", \"Codename\")\n",
    "        \n",
    "    def getUserHistory(self, userId):\n",
    "        return self.usercontent\\\n",
    "            .filter(\"UserId == {0}\".format(userId))\\\n",
    "            .join(self.contents, \"ContentId\")\\\n",
    "            .select(\"UserId\", \"ContentId\", \"Codename\")\n",
    "            \n",
    "    def getContentsWithCategoryType(self, categoryTypeId):\n",
    "        return self.contents\\\n",
    "            .join(self.contentCategories, \"ContentId\")\\\n",
    "            .join(self.categories, \"CategoryId\")\\\n",
    "            .filter(\"CategoryTypeId == {0}\".format(categoryTypeId))\n",
    "            \n",
    "    def getContentCategories(self, contentId):\n",
    "        return self.contentCategories\\\n",
    "            .filter(\"ContentId == {0}\".format(contentId))\\\n",
    "            .join(self.categories, \"CategoryId\")\\\n",
    "            .join(self.categoryTypes, \"CategoryTypeId\")\\\n",
    "            .select(\"ContentId\", \"CategoryId\", \"CategoryCodename\", \"CategoryTypeId\", \"CategoryTypeCodename\")\n",
    "            \n",
    "    def filterContentLowerBound(self, cutOffNo=20):\n",
    "        grouped = self.usercontent.groupBy(\"ContentId\").count().filter(\"count > {0}\".format(cutOffNo))\n",
    "        self.usercontent = self.usercontent.join(grouped, \"ContentId\").select(\"UserId\", \"ContentId\", col(\"count\").alias(\"ContentCount\"))\n",
    "    \n",
    "    def filterUserLowerBound(self, cutOffNo=2):\n",
    "        grouped = self.usercontent.groupBy(\"UserId\").count().filter(\"count > {0}\".format(cutOffNo))\n",
    "        self.usercontent = self.usercontent.join(grouped, \"UserId\").select(\"UserId\", \"ContentId\", col(\"count\").alias(\"UserCount\"))\n",
    "    \n",
    "    def filterCategoryTypes(self, categoryTypeId):\n",
    "        self.usercontent = self.usercontent.join(self.getContentsWithCategoryType(categoryTypeId), \"ContentId\", \"left_anti\")\n",
    "        \n",
    "class Recommender():\n",
    "    def __init__(self, contents):\n",
    "        self.contents = contents\n",
    "        als = ALS(userCol=\"UserId\", itemCol=\"ContentId\", ratingCol=\"ContentCount\", implicitPrefs=True, rank=20, maxIter=10)\n",
    "        self.alsModel = als.fit(self.contents.usercontent)\n",
    "        self.userRecommendations = self.alsModel.recommendForAllUsers(20).cache()\n",
    "        \n",
    "        self.listToVector = udf(lambda l: Vectors.dense(l), VectorUDT())\n",
    "        self.itemsFactors = self.alsModel.itemFactors.select(\n",
    "            self.alsModel.itemFactors[\"id\"],\n",
    "            self.listToVector(self.alsModel.itemFactors[\"features\"]).alias(\"features\")).cache()\n",
    "        brp = BucketedRandomProjectionLSH(inputCol=\"features\", outputCol=\"hashes\", bucketLength=1.0)\n",
    "        self.brpModel = brp.fit(self.itemsFactors)\n",
    "        \n",
    "    def getUserToItem(self, userId):\n",
    "        userRecommendations = spark.createDataFrame(self.userRecommendations.filter('UserId == {0}'.format(userId)).take(1)[0].recommendations)\n",
    "        return userRecommendations.join(self.contents.contents, \"ContentId\")\n",
    "        \n",
    "    def getItemToItem(self, itemId, k=20):\n",
    "        features = self.itemsFactors.filter(\"id == {0}\".format(itemId)).take(1)[0].features\n",
    "        nearest = self.brpModel.approxNearestNeighbors(self.itemsFactors, features, k)\n",
    "        return nearest.join(self.contents.contents, self.contents.contents.ContentId == nearest.id)\\\n",
    "            .select(\"ContentId\", \"Codename\", \"distCol\")"
   ]
  },
  {
   "cell_type": "code",
   "execution_count": 3,
   "metadata": {
    "collapsed": false,
    "deletable": true,
    "editable": true
   },
   "outputs": [
    {
     "name": "stdout",
     "output_type": "stream",
     "text": [
      "Wall time: 1min 4s\n"
     ]
    }
   ],
   "source": [
    "%%time\n",
    "c = Contents().load().transform().cache()\n",
    "r = Recommender(c)"
   ]
  },
  {
   "cell_type": "code",
   "execution_count": 7,
   "metadata": {
    "collapsed": false,
    "deletable": true,
    "editable": true,
    "scrolled": true
   },
   "outputs": [
    {
     "name": "stdout",
     "output_type": "stream",
     "text": [
      "+---------+------------------+--------------------------------------------------+\n",
      "|ContentId|rating            |Codename                                          |\n",
      "+---------+------------------+--------------------------------------------------+\n",
      "|3281985  |1.5151088237762451|szybcy-i-wsciekli-24                              |\n",
      "|2370089  |1.384731650352478 |upadek-2                                          |\n",
      "|2370086  |1.299767255783081 |krolewna-sniezka-2                                |\n",
      "|4132082  |1.2502920627593994|empire-state-ryzykowna-gra-1                      |\n",
      "|2369939  |1.2452311515808105|asterix-i-obelix-w-sluzbie-jej-krolewskiej-mosci-6|\n",
      "|2383850  |1.204926609992981 |spirited-away-w-krainie-bogow                     |\n",
      "|2370085  |1.1927030086517334|burza                                             |\n",
      "|4132077  |1.1880314350128174|hotelowa-milosc                                   |\n",
      "|2568666  |1.177538275718689 |odcinek-38-jake-i-piraci-z-nibylandii             |\n",
      "|2568660  |1.1739100217819214|odcinek-2-wodogrzmoty-male                        |\n",
      "|2768508  |1.160994052886963 |peppa-4-odc-29                                    |\n",
      "|2865288  |1.1600240468978882|sekrety-morza-6                                   |\n",
      "|2936654  |1.1461422443389893|angry-birds-toons-odc-112                         |\n",
      "|2432194  |1.1419988870620728|turbo-dudly-psi-agent-sezon-01-odcinek-37         |\n",
      "|2872526  |1.1233651638031006|odcinek-40-jake-i-piraci-z-nibylandii             |\n",
      "|2058153  |1.1212457418441772|odcinek-36-fineasz-i-ferb                         |\n",
      "|2410457  |1.1206973791122437|spongebob-kanciastoporty-sezon-01-odcinek-29      |\n",
      "|2376875  |1.1203407049179077|odcinek-10-miraculum-biedronka-i-czarny-kot       |\n",
      "|3714511  |1.115671157836914 |transporter-nowa-moc-17                           |\n",
      "|2058152  |1.1144077777862549|odcinek-35-fineasz-i-ferb                         |\n",
      "+---------+------------------+--------------------------------------------------+\n",
      "\n",
      "Wall time: 6.8 s\n"
     ]
    }
   ],
   "source": [
    "%%time\n",
    "r.getUserToItem(59399).show(20, False)"
   ]
  },
  {
   "cell_type": "code",
   "execution_count": 10,
   "metadata": {
    "collapsed": false,
    "deletable": true,
    "editable": true,
    "scrolled": true
   },
   "outputs": [
    {
     "name": "stdout",
     "output_type": "stream",
     "text": [
      "Wall time: 2.66 s\n"
     ]
    },
    {
     "data": {
      "text/plain": [
       "[Row(ContentId=2050700, Codename='nimfomanka-cz-1', distCol=0.0),\n",
       " Row(ContentId=2050699, Codename='nimfomanka-cz-2', distCol=0.07662286816769384),\n",
       " Row(ContentId=2194083, Codename='the-walking-dead-sezon-5-odcinek-16-conquer', distCol=0.21481132830723365),\n",
       " Row(ContentId=2186797, Codename='the-walking-dead-sezon-1-odcinek-1-days-gone-by', distCol=0.2212716422535205),\n",
       " Row(ContentId=2369950, Codename='titanic-zrodlo-tragedii-7', distCol=0.2218088481660394),\n",
       " Row(ContentId=2370123, Codename='ceremonia-wreczenia-oscarow', distCol=0.22436899193476254),\n",
       " Row(ContentId=1819757, Codename='egzoplanety-blizniacze-ziemie', distCol=0.22682481562964776),\n",
       " Row(ContentId=1587735, Codename='stawka-wieksza-niz-zycie-podwojny-nelson-3', distCol=0.22840263180305034),\n",
       " Row(ContentId=2227155, Codename='joe-10', distCol=0.23126860758112833),\n",
       " Row(ContentId=1763469, Codename='33-sceny-z-zycia', distCol=0.23174045734617119),\n",
       " Row(ContentId=2274120, Codename='flip-i-flap-prawdziwa-historia-7', distCol=0.2321614905633235),\n",
       " Row(ContentId=2089675, Codename='miasteczko-south-park-sezon-18-odcinek-21', distCol=0.23239534346949825),\n",
       " Row(ContentId=1317129, Codename='liga-mistrzow-as-roma-fc-barcelona', distCol=0.2340509844281104),\n",
       " Row(ContentId=2128759, Codename='metropolie-odc-04', distCol=0.23409594408546755),\n",
       " Row(ContentId=1573459, Codename='stawka-wieksza-niz-zycie-hotel-excelsior-2', distCol=0.2342572013193543),\n",
       " Row(ContentId=2186799, Codename='the-walking-dead-sezon-1-odcinek-6-ts-2', distCol=0.23546852776965405),\n",
       " Row(ContentId=1962872, Codename='kobiety-w-mundurach-odc-02', distCol=0.2363009358574478),\n",
       " Row(ContentId=2241265, Codename='japonia-powrot-do-zrodel-8', distCol=0.23684923360622967),\n",
       " Row(ContentId=2651569, Codename='221163-sezon-1-odcinek-2-krolicza-nora-cz-2', distCol=0.2372233166365017),\n",
       " Row(ContentId=2186798, Codename='the-walking-dead-sezon-1-odcinek-3-tell-it-to-the-frogs', distCol=0.2374945600441568)]"
      ]
     },
     "execution_count": 10,
     "metadata": {},
     "output_type": "execute_result"
    }
   ],
   "source": [
    "%%time\n",
    "r.getItemToItem(2050700, 20).collect()"
   ]
  },
  {
   "cell_type": "code",
   "execution_count": 15,
   "metadata": {
    "collapsed": false,
    "deletable": true,
    "editable": true
   },
   "outputs": [
    {
     "name": "stdout",
     "output_type": "stream",
     "text": [
      "+------+---------+--------------------------------------------+\n",
      "|UserId|ContentId|Codename                                    |\n",
      "+------+---------+--------------------------------------------+\n",
      "|59399 |2410457  |spongebob-kanciastoporty-sezon-01-odcinek-29|\n",
      "|137378|2410457  |spongebob-kanciastoporty-sezon-01-odcinek-29|\n",
      "|89163 |2410457  |spongebob-kanciastoporty-sezon-01-odcinek-29|\n",
      "|136525|2410457  |spongebob-kanciastoporty-sezon-01-odcinek-29|\n",
      "|13273 |2410457  |spongebob-kanciastoporty-sezon-01-odcinek-29|\n",
      "|75072 |2410457  |spongebob-kanciastoporty-sezon-01-odcinek-29|\n",
      "|167687|2410457  |spongebob-kanciastoporty-sezon-01-odcinek-29|\n",
      "|36224 |2410457  |spongebob-kanciastoporty-sezon-01-odcinek-29|\n",
      "|35030 |2410457  |spongebob-kanciastoporty-sezon-01-odcinek-29|\n",
      "|172415|2410457  |spongebob-kanciastoporty-sezon-01-odcinek-29|\n",
      "|148180|2410457  |spongebob-kanciastoporty-sezon-01-odcinek-29|\n",
      "|16548 |2410457  |spongebob-kanciastoporty-sezon-01-odcinek-29|\n",
      "|128106|2410457  |spongebob-kanciastoporty-sezon-01-odcinek-29|\n",
      "|104655|2410457  |spongebob-kanciastoporty-sezon-01-odcinek-29|\n",
      "|25227 |2410457  |spongebob-kanciastoporty-sezon-01-odcinek-29|\n",
      "|171286|2410457  |spongebob-kanciastoporty-sezon-01-odcinek-29|\n",
      "|98114 |2410457  |spongebob-kanciastoporty-sezon-01-odcinek-29|\n",
      "|173186|2410457  |spongebob-kanciastoporty-sezon-01-odcinek-29|\n",
      "|76039 |2410457  |spongebob-kanciastoporty-sezon-01-odcinek-29|\n",
      "|160029|2410457  |spongebob-kanciastoporty-sezon-01-odcinek-29|\n",
      "+------+---------+--------------------------------------------+\n",
      "only showing top 20 rows\n",
      "\n"
     ]
    }
   ],
   "source": [
    "c.getUsersWithContent(\"spongebob\").show(20, False)"
   ]
  },
  {
   "cell_type": "code",
   "execution_count": 6,
   "metadata": {
    "collapsed": false,
    "deletable": true,
    "editable": true
   },
   "outputs": [
    {
     "name": "stdout",
     "output_type": "stream",
     "text": [
      "+------+---------+--------------------------------------------+\n",
      "|UserId|ContentId|Codename                                    |\n",
      "+------+---------+--------------------------------------------+\n",
      "|59399 |3507547  |clangers-s1-odc4                            |\n",
      "|59399 |2410457  |spongebob-kanciastoporty-sezon-01-odcinek-29|\n",
      "|59399 |2417980  |psi-patrol-sezon-01-odcinek-06              |\n",
      "|59399 |3447786  |dora-poznaje-swiat-sezon-05-odcinek-01      |\n",
      "|59399 |2058145  |odcinek-7-klinika-dla-pluszakow             |\n",
      "|59399 |2561504  |dora-poznaje-swiat-sezon-08-odcinek-17      |\n",
      "|59399 |1763395  |odcinek-9-penn-zero-bohater-na-pol-etatu-1  |\n",
      "|59399 |1942683  |dzielny-lew-eryk-s2-odc-04                  |\n",
      "|59399 |2058146  |odcinek-8-klinika-dla-pluszakow             |\n",
      "|59399 |3728703  |bing-odc-154                                |\n",
      "|59399 |1674819  |odcinek-30-jake-i-piraci-z-nibylandii       |\n",
      "|59399 |1956222  |dzielny-lew-eryk-s2-odc-07                  |\n",
      "|59399 |1987643  |inwazja-korlikow-sezon-02-odcinek-13        |\n",
      "|59399 |1772342  |pac-man-i-upiorne-przygody-s2-odc-13        |\n",
      "|59399 |2603262  |dora-poznaje-swiat-sezon-08-odcinek-20      |\n",
      "|59399 |2171757  |odcinek-1-zlotowlosa-i-mis                  |\n",
      "|59399 |2473221  |odcinek-10-kornisz-i-fistach                |\n",
      "|59399 |1763391  |odcinek-49-henry-hugglemonster              |\n",
      "|59399 |2321213  |male-i-duze-przygody-miffy-odc-05           |\n",
      "|59399 |2383908  |dora-poznaje-swiat-sezon-01-odcinek-05      |\n",
      "|59399 |2410454  |spongebob-kanciastoporty-sezon-01-odcinek-26|\n",
      "|59399 |2699717  |fistaszki-odc-140                           |\n",
      "|59399 |1674779  |fistaszki-odc-215                           |\n",
      "|59399 |2473220  |odcinek-47-supa-strikas                     |\n",
      "|59399 |2417970  |psi-patrol-sezon-01-odcinek-28              |\n",
      "|59399 |2417988  |psi-patrol-sezon-01-odcinek-39              |\n",
      "|59399 |2775712  |poznaj-uroki-angkor-4                       |\n",
      "|59399 |2450736  |wissper-odc-107                             |\n",
      "|59399 |2514871  |fru-13                                      |\n",
      "|59399 |2383910  |dora-poznaje-swiat-sezon-01-odcinek-04      |\n",
      "|59399 |1819780  |jamie-mamacki-odc-26                        |\n",
      "|59399 |2376886  |odcinek-84-klinika-dla-pluszakow            |\n",
      "|59399 |2506996  |dora-poznaje-swiat-sezon-08-odcinek-04      |\n",
      "|59399 |1942680  |dzielny-lew-eryk-s2-odc-01                  |\n",
      "|59399 |1962885  |pamietnik-florki-s2-odc-10                  |\n",
      "|59399 |2417982  |psi-patrol-sezon-01-odcinek-35              |\n",
      "|59399 |2507002  |psi-patrol-sezon-02-odcinek-8               |\n",
      "|59399 |1813143  |odcinek-32-klub-przyjaciol-myszki-miki      |\n",
      "|59399 |1813144  |odcinek-31-jake-i-piraci-z-nibylandii       |\n",
      "|59399 |2383879  |dora-poznaje-swiat-sezon-01-odcinek-02      |\n",
      "+------+---------+--------------------------------------------+\n",
      "only showing top 40 rows\n",
      "\n"
     ]
    }
   ],
   "source": [
    "c.getUserHistory(59399).show(40, False)"
   ]
  },
  {
   "cell_type": "code",
   "execution_count": 9,
   "metadata": {
    "collapsed": false,
    "deletable": true,
    "editable": true
   },
   "outputs": [
    {
     "name": "stdout",
     "output_type": "stream",
     "text": [
      "+---------+----------+----------------+--------------+--------------------+\n",
      "|ContentId|CategoryId|CategoryCodename|CategoryTypeId|CategoryTypeCodename|\n",
      "+---------+----------+----------------+--------------+--------------------+\n",
      "|  2050700|       402|     film-dramat|             9|movie-internal-genre|\n",
      "|  2050700|        43|            film|             5|               genre|\n",
      "|  2050700|       312|        dramat-1|             7|      movie-category|\n",
      "+---------+----------+----------------+--------------+--------------------+\n",
      "\n"
     ]
    }
   ],
   "source": [
    "c.getContentCategories(2050700).show()"
   ]
  },
  {
   "cell_type": "code",
   "execution_count": 84,
   "metadata": {
    "collapsed": false,
    "deletable": true,
    "editable": true
   },
   "outputs": [
    {
     "data": {
      "text/plain": [
       "59399"
      ]
     },
     "execution_count": 84,
     "metadata": {},
     "output_type": "execute_result"
    }
   ],
   "source": [
    "12581\n",
    "59399"
   ]
  },
  {
   "cell_type": "code",
   "execution_count": 85,
   "metadata": {
    "collapsed": false,
    "deletable": true,
    "editable": true
   },
   "outputs": [
    {
     "data": {
      "text/plain": [
       "2050700"
      ]
     },
     "execution_count": 85,
     "metadata": {},
     "output_type": "execute_result"
    }
   ],
   "source": [
    "2050700"
   ]
  },
  {
   "cell_type": "code",
   "execution_count": null,
   "metadata": {
    "collapsed": true,
    "deletable": true,
    "editable": true
   },
   "outputs": [],
   "source": []
  }
 ],
 "metadata": {
  "kernelspec": {
   "display_name": "Python 3",
   "language": "python",
   "name": "python3"
  },
  "language_info": {
   "codemirror_mode": {
    "name": "ipython",
    "version": 3
   },
   "file_extension": ".py",
   "mimetype": "text/x-python",
   "name": "python",
   "nbconvert_exporter": "python",
   "pygments_lexer": "ipython3",
   "version": "3.5.0"
  }
 },
 "nbformat": 4,
 "nbformat_minor": 2
}
